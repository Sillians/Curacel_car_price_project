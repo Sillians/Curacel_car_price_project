{
 "cells": [
  {
   "cell_type": "code",
   "execution_count": null,
   "metadata": {},
   "outputs": [],
   "source": []
  },
  {
   "cell_type": "markdown",
   "metadata": {},
   "source": [
    "**Abstract** \n",
    "\n",
    "Cars are being sold more than ever. Many researches have been done in recent years on predicting\n",
    "used car price with data mining. An accurate used car price\n",
    "evaluation works as a catalyst in the healthy development of\n",
    "used car market. Therefore, arises a need for a model that\n",
    "can assign a price for a vehicle by evaluating its features\n",
    "taking prices of other cars into consideration. Customers\n",
    "can be widely exploited by fixing unrealistic prices for the\n",
    "used cars and many fall into this trap. Therefore, raises an\n",
    "absolute necessity of a used car price prediction system to\n",
    "effectively determine the worthiness of the car depending on\n",
    "a variety of features. This price prediction model bridges\n",
    "this gap, giving the buyers and sellers an approximate value\n",
    "of the car using the multiple linear regression to predict the\n",
    "price.\n"
   ]
  },
  {
   "cell_type": "markdown",
   "metadata": {},
   "source": [
    "**INTRODUCTION**\n",
    "\n",
    "\n",
    "With the increase of car ownership, used car market\n",
    "shows great potential. An accurate used car price\n",
    "evaluation is essential for the healthy development of used\n",
    "car market. The prices of new cars in the industry are fixed\n",
    "by the manufacturer with some additional costs incurred\n",
    "by the Government in the form of taxes. But due to the\n",
    "increased price of new cars and incapability of customers\n",
    "to buy new cars due to the lack of funds, used cars sales\n",
    "are on a global increase. Predicting the prices of used cars\n",
    "is therefore an interesting and much-needed problem that\n",
    "needs to be addressed.\n",
    "Given the description of used cars, prediction of used cars\n",
    "is not an easy task. It is trite knowledge that the value of\n",
    "used cars depends on various factors\n",
    "\n",
    "The most important ones are usually the \n",
    "\n",
    " * age of the car\n",
    " * its make (and model),\n",
    " * the origin of the car (the original country of the manufacturer), \n",
    " * its mileage (the number of kilometers it has run) and \n",
    " * its horsepower. \n",
    " \n",
    "Due to rising fuel prices, \n",
    " * fuel economy also has a prime importance. \n",
    "\n",
    "Some special factors which buyers attach importance is the \n",
    " * local of previous owners, whether the car had been involved in serious accidents and whether it is a lady-driven car. \n",
    " * The look and feel of the car contributes a lot to the price. \n",
    " \n",
    " As we can see, the price depends on various different factors. Unfortunately, information about all these factors is not\n",
    "always available and the buyer must make the decision to purchase at a certain price based on few factors only.\n",
    "\n",
    "So, we propose a methodology using Machine Learning to predict the prices of used cars given the features. The\n",
    "price is estimated based on the number of features. We then deploy a responsive website to display our results that consist of all the various listings of used cars. This deployed service is a result of our work, and it incorporates the data, ML model with the features. This methodology can aid in the decision making of the users who are looking to buy a used car. It also provides users with the freedom to search all the available cars at one place without moving, anywhere and at any time.\n",
    "\n",
    "\n"
   ]
  },
  {
   "cell_type": "markdown",
   "metadata": {},
   "source": [
    "**EXISTING SYSTEM**\n",
    "\n",
    "Work on estimating the price of used cars is very recent but also very sparse. The conventional method involves going to a\n",
    "cars dealer, showing them the documents of the car and then an inspection of the car is performed in order to understand the\n",
    "state of the build and the engine of the vehicle. Only after such a long procedure and after waiting for around more or less than a week’s time or so, one can expect to get and idea the price range in which the car could be sold.\n",
    "\n",
    "In the digital world, there have been many different implementations that have been used to effectively predict the\n",
    "price of a vehicle using different algorithms right from the machine learning algorithms of multiple linear regression, knearest neighbor, naïve bayes to random forest and decision tree to the SAS enterprise miner. In [1], [2], [3], [5] and [7] all these implementations considered different sets of features in order to make their predictions from the historical data that was used to for training the model. \n",
    "\n",
    "Here, in addition to not just building a prediction model based on the features that impact the prices the most, we have tried to build a web application where a user will be able to go through listings of the cars that are available for sale, make a decision by checking if the listed prices are on the higher or the lower side and therefore, be able to help the user/customer in the decision making to buy or sell a car, thus giving out a better model replacing the existing ones."
   ]
  },
  {
   "cell_type": "markdown",
   "metadata": {},
   "source": [
    "**PROPOSED SYSTEM**\n",
    "\n",
    "\n",
    "The proposed system provides users with the freedom to search all the available cars at one place without moving,\n",
    "anywhere and at any time. This methodology can aid in the decision making of the users who are looking to buy a used\n",
    "car. This enables the people to search for a car without any skepticism of how to make sure if it is a verified seller, how\n",
    "to contact the seller and to get all the information about the age and build, etc of the car, demonstrating the usefulness,\n",
    "viability and flexibility of the system. It also aims to ease down the process of finding the right car as per the users’\n",
    "needs and also shows the car is worth the price listed by the seller.\n",
    "\n",
    "The basic objective of this system is to let user have a fair idea of what the vehicle could cost them. The system could\n",
    "also provide the user with a list of choices of different types of cars based on the details of the car the user is looking\n",
    "for. It helps give the buyer/seller with the substantial information based on which they can take the decision.\n",
    "\n",
    "The rise of used cars sales is exponentially increasing and the car sellers can take advantage of this scenario by\n",
    "listing unrealistic prices owing to the demand. Therefore, there arises a need for a model that can assign a price for a\n",
    "vehicle by evaluating its features taking the prices of other cars into consideration. Our system bridges this gap,\n",
    "giving the buyers and sellers an approximate value of the car using the best algorithm that can be used to predict the\n",
    "price.\n",
    "\n"
   ]
  },
  {
   "cell_type": "markdown",
   "metadata": {},
   "source": [
    "**IMPLEMENTATION OF SYSTEM:**\n",
    "    \n",
    "    \n",
    "The main page consists of two topics in the navigation bar named ‘Search’ and ‘Predict’. The system lets the user be\n",
    "able to go through all the records and details of the cars. The main search page includes a table that can be used to\n",
    "look for a particular car based on the users’ interests. Based on the options selected by the user, the corresponding car records will be fetched from the database and the details of the car will be shown to the user. The user can now check the listed price of the car against the price predicted by the system and make a decision whether to consider buying the car or not. There is also a provision for buyers to post cars for sale.\n",
    "\n",
    "The ‘Predict’ page consists of a table which asks the user to input the details of the features of the car that will be\n",
    "used in order to predict an approximate price range for the car. Based on the output of this model, the user will be\n",
    "able to understand what is the worth of their car and if they would like to sell it. This model has been trained\n",
    "using historical data that was gathered over a long period of time. Based on the KDD (Knowledge Discovery in Databases) process, the raw data was first collected. It was then preprocessed and was cleaned in order to find useful patterns useful in order to make some meaning out of those patterns. This data was then used to train the model using Multiple Linear Regression in Python. The current count of our training dataset is around 1700-1750 based on which the price is being predicted.\n",
    "Based on the details the user inputs, the underlying system predicts the price based on the values of the inputs passed to it. "
   ]
  },
  {
   "cell_type": "markdown",
   "metadata": {},
   "source": [
    "**APPLICATIONS:**\n",
    "    \n",
    "    \n",
    "The basic objective of this system is to let user have a fair idea of what the vehicle could cost them. The website could also provide the user with a list of choices of different types of cars based on the details of the car the user is looking for. It helps give the buyer/seller with the substantial information based on which they can take the decision. In addition, following are a few other applications:\n",
    "\n",
    "* On-road price: User can get an approximate on-road price of any model for any city, on one’s fingertips\n",
    "* Compare cars- Decide on the go: User will not have to wait for long time! They will be able to easily   choose their favorite   cars against different models with our prediction tool on our website\n",
    "* Sell cars- Post for resale: Seller will be able to post their car for sale once they are satisfied with the price.\n",
    "* Buy cars: Since the price of the car is predicted by the model using large amount of data, there are less chances of any     unrealistic pricing.\n",
    "* Analytics: The user can understand the trends in the variation of the car prices with respect to age, usage of the car to better understand the how prices are influenced based on these factors.\n",
    "* "
   ]
  },
  {
   "cell_type": "markdown",
   "metadata": {},
   "source": [
    "**FUTURE SCOPE:**\n",
    "\n",
    "Given the current working and design of the proposed systems, there is definitely a place for future enhancements. As better and more reliable technology comes ahead of us, more features can be added by providing a better experience by adding provisions for electric cars when the technology will be used by the public in large numbers. In addition to this, various different variations in cars such as the hybrid engines can be introduced. With future generations of the product, modules such as the comparison and payment gateways can be implemented into the system, leading towards development of a proper business model which can then be used by businesses along with refined and interactive analytics that can be used to understand the trends in the prices and different automobile types.\n",
    "\n",
    "Lastly, enhancements in the machine learning algorithms used can help increase the accuracy of the system and\n",
    "therefore can help towards the research and development of the topic"
   ]
  },
  {
   "cell_type": "markdown",
   "metadata": {},
   "source": [
    "**CONCLUSION:**\n",
    "    \n",
    "    \n",
    "With the increase of car ownership, used car market shows great potential. An accurate used car price evaluation is\n",
    "essential for the healthy development of used car market. The automobile resale system would prove useful in helping the potential car buyers to find the best car for their budget and at the same time give a predicted price for the car one intends to sell, thereby proving to be a very useful tool helping people facilitate finding the best deal for their budget which is a very popular and trending niche in the used cars market.\n",
    "\n",
    "The overall system being real-time and interactive with the user helps it to be an overall innovative proposed idea\n",
    "which can be easily implemented providing an overall satisfaction to the customer proving to become a successful business idea."
   ]
  },
  {
   "cell_type": "code",
   "execution_count": null,
   "metadata": {},
   "outputs": [],
   "source": []
  },
  {
   "cell_type": "code",
   "execution_count": null,
   "metadata": {},
   "outputs": [],
   "source": []
  },
  {
   "cell_type": "code",
   "execution_count": null,
   "metadata": {},
   "outputs": [],
   "source": []
  },
  {
   "cell_type": "code",
   "execution_count": null,
   "metadata": {},
   "outputs": [],
   "source": []
  },
  {
   "cell_type": "code",
   "execution_count": null,
   "metadata": {},
   "outputs": [],
   "source": []
  },
  {
   "cell_type": "code",
   "execution_count": null,
   "metadata": {},
   "outputs": [],
   "source": []
  },
  {
   "cell_type": "code",
   "execution_count": null,
   "metadata": {},
   "outputs": [],
   "source": []
  },
  {
   "cell_type": "code",
   "execution_count": null,
   "metadata": {},
   "outputs": [],
   "source": []
  },
  {
   "cell_type": "code",
   "execution_count": null,
   "metadata": {},
   "outputs": [],
   "source": []
  },
  {
   "cell_type": "code",
   "execution_count": null,
   "metadata": {},
   "outputs": [],
   "source": []
  },
  {
   "cell_type": "code",
   "execution_count": null,
   "metadata": {},
   "outputs": [],
   "source": []
  },
  {
   "cell_type": "code",
   "execution_count": null,
   "metadata": {},
   "outputs": [],
   "source": []
  },
  {
   "cell_type": "code",
   "execution_count": null,
   "metadata": {},
   "outputs": [],
   "source": []
  },
  {
   "cell_type": "code",
   "execution_count": null,
   "metadata": {},
   "outputs": [],
   "source": []
  },
  {
   "cell_type": "code",
   "execution_count": null,
   "metadata": {},
   "outputs": [],
   "source": []
  },
  {
   "cell_type": "code",
   "execution_count": null,
   "metadata": {},
   "outputs": [],
   "source": []
  },
  {
   "cell_type": "code",
   "execution_count": null,
   "metadata": {},
   "outputs": [],
   "source": []
  },
  {
   "cell_type": "code",
   "execution_count": null,
   "metadata": {},
   "outputs": [],
   "source": []
  },
  {
   "cell_type": "code",
   "execution_count": null,
   "metadata": {},
   "outputs": [],
   "source": []
  },
  {
   "cell_type": "code",
   "execution_count": null,
   "metadata": {},
   "outputs": [],
   "source": []
  },
  {
   "cell_type": "code",
   "execution_count": null,
   "metadata": {},
   "outputs": [],
   "source": []
  },
  {
   "cell_type": "code",
   "execution_count": null,
   "metadata": {},
   "outputs": [],
   "source": []
  },
  {
   "cell_type": "code",
   "execution_count": null,
   "metadata": {},
   "outputs": [],
   "source": []
  },
  {
   "cell_type": "code",
   "execution_count": null,
   "metadata": {},
   "outputs": [],
   "source": []
  },
  {
   "cell_type": "code",
   "execution_count": null,
   "metadata": {},
   "outputs": [],
   "source": []
  },
  {
   "cell_type": "code",
   "execution_count": null,
   "metadata": {},
   "outputs": [],
   "source": []
  },
  {
   "cell_type": "code",
   "execution_count": null,
   "metadata": {},
   "outputs": [],
   "source": []
  },
  {
   "cell_type": "code",
   "execution_count": null,
   "metadata": {},
   "outputs": [],
   "source": []
  },
  {
   "cell_type": "code",
   "execution_count": null,
   "metadata": {},
   "outputs": [],
   "source": []
  },
  {
   "cell_type": "code",
   "execution_count": null,
   "metadata": {},
   "outputs": [],
   "source": []
  },
  {
   "cell_type": "code",
   "execution_count": null,
   "metadata": {},
   "outputs": [],
   "source": []
  },
  {
   "cell_type": "code",
   "execution_count": null,
   "metadata": {},
   "outputs": [],
   "source": []
  },
  {
   "cell_type": "code",
   "execution_count": null,
   "metadata": {},
   "outputs": [],
   "source": []
  },
  {
   "cell_type": "code",
   "execution_count": null,
   "metadata": {},
   "outputs": [],
   "source": []
  },
  {
   "cell_type": "code",
   "execution_count": null,
   "metadata": {},
   "outputs": [],
   "source": []
  },
  {
   "cell_type": "code",
   "execution_count": null,
   "metadata": {},
   "outputs": [],
   "source": []
  },
  {
   "cell_type": "code",
   "execution_count": null,
   "metadata": {},
   "outputs": [],
   "source": []
  },
  {
   "cell_type": "code",
   "execution_count": null,
   "metadata": {},
   "outputs": [],
   "source": []
  },
  {
   "cell_type": "code",
   "execution_count": null,
   "metadata": {},
   "outputs": [],
   "source": []
  },
  {
   "cell_type": "code",
   "execution_count": null,
   "metadata": {},
   "outputs": [],
   "source": []
  },
  {
   "cell_type": "code",
   "execution_count": null,
   "metadata": {},
   "outputs": [],
   "source": []
  },
  {
   "cell_type": "code",
   "execution_count": null,
   "metadata": {},
   "outputs": [],
   "source": []
  },
  {
   "cell_type": "code",
   "execution_count": null,
   "metadata": {},
   "outputs": [],
   "source": []
  },
  {
   "cell_type": "code",
   "execution_count": null,
   "metadata": {},
   "outputs": [],
   "source": []
  },
  {
   "cell_type": "code",
   "execution_count": null,
   "metadata": {},
   "outputs": [],
   "source": []
  },
  {
   "cell_type": "code",
   "execution_count": null,
   "metadata": {},
   "outputs": [],
   "source": []
  },
  {
   "cell_type": "code",
   "execution_count": null,
   "metadata": {},
   "outputs": [],
   "source": []
  },
  {
   "cell_type": "code",
   "execution_count": 39,
   "metadata": {},
   "outputs": [
    {
     "data": {
      "text/plain": [
       "array([ True,  True, False,  True,  True,  True, False, False, False,\n",
       "       False])"
      ]
     },
     "execution_count": 39,
     "metadata": {},
     "output_type": "execute_result"
    }
   ],
   "source": [
    "from sklearn.datasets import make_friedman1\n",
    "from sklearn.feature_selection import RFE\n",
    "from sklearn.svm import SVR\n",
    "X, y = make_friedman1(n_samples=50, n_features=10, random_state=0)\n",
    "estimator = SVR(kernel=\"linear\", C=100)\n",
    "selector = RFE(estimator, 5, step=1)\n",
    "selector = selector.fit(X, y)\n",
    "selector.support_"
   ]
  },
  {
   "cell_type": "code",
   "execution_count": 40,
   "metadata": {},
   "outputs": [
    {
     "data": {
      "text/plain": [
       "0.7543626878877557"
      ]
     },
     "execution_count": 40,
     "metadata": {},
     "output_type": "execute_result"
    }
   ],
   "source": [
    "selector.score(X,y)"
   ]
  },
  {
   "cell_type": "code",
   "execution_count": 41,
   "metadata": {},
   "outputs": [
    {
     "data": {
      "text/plain": [
       "array([ True,  True, False,  True,  True,  True, False, False, False,\n",
       "       False])"
      ]
     },
     "execution_count": 41,
     "metadata": {},
     "output_type": "execute_result"
    }
   ],
   "source": [
    "selector.support_ "
   ]
  },
  {
   "cell_type": "code",
   "execution_count": 42,
   "metadata": {},
   "outputs": [
    {
     "data": {
      "text/plain": [
       "array([1, 1, 3, 1, 1, 1, 4, 2, 5, 6])"
      ]
     },
     "execution_count": 42,
     "metadata": {},
     "output_type": "execute_result"
    }
   ],
   "source": [
    "selector.ranking_"
   ]
  },
  {
   "cell_type": "code",
   "execution_count": 43,
   "metadata": {},
   "outputs": [
    {
     "name": "stdout",
     "output_type": "stream",
     "text": [
      "5\n"
     ]
    }
   ],
   "source": [
    "print(selector.n_features_)"
   ]
  },
  {
   "cell_type": "code",
   "execution_count": 44,
   "metadata": {},
   "outputs": [],
   "source": [
    "# # Spliting into 80% for training set and 20% for testing set so we can see our accuracy\n",
    "# X_train, x_test, Y_train, y_test = train_test_split(X, Y, test_size=0.2, random_state=0)"
   ]
  },
  {
   "cell_type": "code",
   "execution_count": 60,
   "metadata": {},
   "outputs": [],
   "source": [
    "import numpy as np\n",
    "import pandas as pd"
   ]
  },
  {
   "cell_type": "code",
   "execution_count": 85,
   "metadata": {},
   "outputs": [],
   "source": [
    "from sklearn.datasets import make_friedman1\n",
    "from sklearn.feature_selection import RFE\n",
    "from sklearn.linear_model import LinearRegression\n",
    "from sklearn.model_selection import train_test_split\n",
    "from sklearn.metrics import mean_squared_error\n",
    "\n",
    "X, Y = make_friedman1(n_samples=50, n_features=10, random_state=0)"
   ]
  },
  {
   "cell_type": "code",
   "execution_count": 86,
   "metadata": {},
   "outputs": [],
   "source": [
    "# X = pd.DataFrame(X)\n",
    "# X.head()"
   ]
  },
  {
   "cell_type": "code",
   "execution_count": 87,
   "metadata": {},
   "outputs": [],
   "source": [
    "# Y = Y.reshape(-1, 1)\n",
    "# Y"
   ]
  },
  {
   "cell_type": "code",
   "execution_count": 88,
   "metadata": {},
   "outputs": [],
   "source": [
    "X_train, x_test, Y_train, y_test = train_test_split(X, Y, test_size=0.2, random_state=42)"
   ]
  },
  {
   "cell_type": "code",
   "execution_count": 89,
   "metadata": {},
   "outputs": [
    {
     "data": {
      "text/plain": [
       "LinearRegression(copy_X=True, fit_intercept=True, n_jobs=None, normalize=False)"
      ]
     },
     "execution_count": 89,
     "metadata": {},
     "output_type": "execute_result"
    }
   ],
   "source": [
    "reg = LinearRegression()\n",
    "reg.fit(X_train, Y_train)"
   ]
  },
  {
   "cell_type": "code",
   "execution_count": 90,
   "metadata": {},
   "outputs": [
    {
     "data": {
      "text/plain": [
       "0.8148517351920732"
      ]
     },
     "execution_count": 90,
     "metadata": {},
     "output_type": "execute_result"
    }
   ],
   "source": [
    "reg.score(X_train, Y_train)"
   ]
  },
  {
   "cell_type": "code",
   "execution_count": 101,
   "metadata": {},
   "outputs": [],
   "source": [
    "reg_pred = reg.predict(x_test)"
   ]
  },
  {
   "cell_type": "code",
   "execution_count": 102,
   "metadata": {},
   "outputs": [
    {
     "name": "stdout",
     "output_type": "stream",
     "text": [
      "Mean Absolute Error: 2.7363620172062744\n",
      "Mean Squared Error: 11.678479927247347\n",
      "Root Mean Squared Error: 3.417379102067452\n"
     ]
    }
   ],
   "source": [
    "from sklearn import metrics\n",
    "print('Mean Absolute Error:', metrics.mean_absolute_error(y_test, reg_pred))  \n",
    "print('Mean Squared Error:', metrics.mean_squared_error(y_test, reg_pred))  \n",
    "print('Root Mean Squared Error:', np.sqrt(metrics.mean_squared_error(y_test, reg_pred)))"
   ]
  },
  {
   "cell_type": "code",
   "execution_count": 92,
   "metadata": {},
   "outputs": [
    {
     "data": {
      "text/plain": [
       "<bound method BaseEstimator.get_params of LinearRegression(copy_X=True, fit_intercept=True, n_jobs=None, normalize=False)>"
      ]
     },
     "execution_count": 92,
     "metadata": {},
     "output_type": "execute_result"
    }
   ],
   "source": [
    "reg.get_params"
   ]
  },
  {
   "cell_type": "code",
   "execution_count": 93,
   "metadata": {},
   "outputs": [],
   "source": [
    "from sklearn.feature_selection import RFE\n",
    "\n",
    "estimator = LinearRegression()\n",
    "selector = RFE(estimator, n_features_to_select=5, step=1)\n",
    "selector = selector.fit(X, Y)"
   ]
  },
  {
   "cell_type": "code",
   "execution_count": 100,
   "metadata": {},
   "outputs": [
    {
     "data": {
      "text/plain": [
       "0.7803347654150063"
      ]
     },
     "execution_count": 100,
     "metadata": {},
     "output_type": "execute_result"
    }
   ],
   "source": [
    "selector.score(X,Y)"
   ]
  },
  {
   "cell_type": "code",
   "execution_count": 94,
   "metadata": {},
   "outputs": [
    {
     "data": {
      "text/plain": [
       "array([ True,  True,  True,  True,  True, False, False, False, False,\n",
       "       False])"
      ]
     },
     "execution_count": 94,
     "metadata": {},
     "output_type": "execute_result"
    }
   ],
   "source": [
    "selector.support_"
   ]
  },
  {
   "cell_type": "code",
   "execution_count": 98,
   "metadata": {},
   "outputs": [
    {
     "name": "stdout",
     "output_type": "stream",
     "text": [
      "[array([ True,  True,  True,  True,  True, False, False, False, False,\n",
      "       False])]\n"
     ]
    }
   ],
   "source": [
    "print([selector.support_])"
   ]
  },
  {
   "cell_type": "code",
   "execution_count": 99,
   "metadata": {},
   "outputs": [
    {
     "data": {
      "text/plain": [
       "array([1, 1, 1, 1, 1, 2, 3, 6, 5, 4])"
      ]
     },
     "execution_count": 99,
     "metadata": {},
     "output_type": "execute_result"
    }
   ],
   "source": [
    "selector.ranking_"
   ]
  },
  {
   "cell_type": "code",
   "execution_count": null,
   "metadata": {},
   "outputs": [],
   "source": []
  },
  {
   "cell_type": "code",
   "execution_count": null,
   "metadata": {},
   "outputs": [],
   "source": []
  }
 ],
 "metadata": {
  "kernelspec": {
   "display_name": "Python 3",
   "language": "python",
   "name": "python3"
  },
  "language_info": {
   "codemirror_mode": {
    "name": "ipython",
    "version": 3
   },
   "file_extension": ".py",
   "mimetype": "text/x-python",
   "name": "python",
   "nbconvert_exporter": "python",
   "pygments_lexer": "ipython3",
   "version": "3.7.3"
  }
 },
 "nbformat": 4,
 "nbformat_minor": 2
}
